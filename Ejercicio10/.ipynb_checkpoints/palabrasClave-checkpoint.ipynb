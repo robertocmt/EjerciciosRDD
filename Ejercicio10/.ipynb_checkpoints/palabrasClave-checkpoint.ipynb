{
 "cells": [
  {
   "cell_type": "code",
   "execution_count": 8,
   "metadata": {},
   "outputs": [],
   "source": [
    "palabras = sc.parallelize([\"prueba\", \"practica\", \"ejercicio\"]).collect()\n",
    "palabra_clave = \"p\""
   ]
  },
  {
   "cell_type": "code",
   "execution_count": 11,
   "metadata": {},
   "outputs": [
    {
     "name": "stdout",
     "output_type": "stream",
     "text": [
      "prueba\n",
      "practica\n"
     ]
    }
   ],
   "source": [
    "for p in palabras:\n",
    "    if palabra_clave in p:\n",
    "        print(p)"
   ]
  }
 ],
 "metadata": {
  "kernelspec": {
   "display_name": "Python 3",
   "language": "python",
   "name": "python3"
  },
  "language_info": {
   "codemirror_mode": {
    "name": "ipython",
    "version": 3
   },
   "file_extension": ".py",
   "mimetype": "text/x-python",
   "name": "python",
   "nbconvert_exporter": "python",
   "pygments_lexer": "ipython3",
   "version": "3.7.0"
  }
 },
 "nbformat": 4,
 "nbformat_minor": 2
}
