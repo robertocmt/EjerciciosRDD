{
 "cells": [
  {
   "cell_type": "code",
   "execution_count": 3,
   "metadata": {},
   "outputs": [
    {
     "data": {
      "text/plain": [
       "[('España', 21.42),\n",
       " ('Francia', 20.4),\n",
       " ('Alemania', 19.38),\n",
       " ('Malta', 18.36),\n",
       " ('Luxenburgo', 15.3)]"
      ]
     },
     "execution_count": 3,
     "metadata": {},
     "output_type": "execute_result"
    }
   ],
   "source": [
    "lista = [(\"España\", 21), (\"Francia\", 20), (\"Alemania\", 19), (\"Malta\", 18), (\"Luxenburgo\", 15)]\n",
    "sc.parallelize(lista).mapValues(lambda x: (x*2/100)+x).collect()"
   ]
  }
 ],
 "metadata": {
  "kernelspec": {
   "display_name": "Python 3",
   "language": "python",
   "name": "python3"
  },
  "language_info": {
   "codemirror_mode": {
    "name": "ipython",
    "version": 3
   },
   "file_extension": ".py",
   "mimetype": "text/x-python",
   "name": "python",
   "nbconvert_exporter": "python",
   "pygments_lexer": "ipython3",
   "version": "3.7.0"
  }
 },
 "nbformat": 4,
 "nbformat_minor": 2
}
