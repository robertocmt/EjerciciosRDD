{
 "cells": [
  {
   "cell_type": "code",
   "execution_count": 1,
   "metadata": {},
   "outputs": [],
   "source": [
    "from pyspark.sql import SQLContext"
   ]
  },
  {
   "cell_type": "code",
   "execution_count": 44,
   "metadata": {},
   "outputs": [
    {
     "name": "stdout",
     "output_type": "stream",
     "text": [
      "+---+------+------+----+-------+-------+--------+-----------+\n",
      "| ID|Nombre|Ciudad|Pais|Latitud|Altitud|Longitud|ZonaHoraria|\n",
      "+---+------+------+----+-------+-------+--------+-----------+\n",
      "+---+------+------+----+-------+-------+--------+-----------+\n",
      "\n"
     ]
    }
   ],
   "source": [
    "sqlContext = SQLContext(sc)\n",
    "aeropuerto = sc.textFile(\"aeropuerto.txt\").map(lambda line: line.split(\",\")).collect()\n",
    "df = sqlContext.createDataFrame(aeropuerto, [\"ID\", \"Nombre\", \"Ciudad\", \"Pais\", \"Latitud\", \"Altitud\", \"Longitud\", \"ZonaHoraria\"])\n",
    "df.createOrReplaceTempView('aeropuerto')\n",
    "sqlContext.sql(\"SELECT * FROM aeropuerto WHERE pais='Spain'\").show()"
   ]
  }
 ],
 "metadata": {
  "kernelspec": {
   "display_name": "Python 3",
   "language": "python",
   "name": "python3"
  },
  "language_info": {
   "codemirror_mode": {
    "name": "ipython",
    "version": 3
   },
   "file_extension": ".py",
   "mimetype": "text/x-python",
   "name": "python",
   "nbconvert_exporter": "python",
   "pygments_lexer": "ipython3",
   "version": "3.7.0"
  }
 },
 "nbformat": 4,
 "nbformat_minor": 2
}
