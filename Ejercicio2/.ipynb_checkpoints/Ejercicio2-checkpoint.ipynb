{
 "cells": [
  {
   "cell_type": "code",
   "execution_count": 1,
   "metadata": {},
   "outputs": [],
   "source": [
    "import pandas as pd"
   ]
  },
  {
   "cell_type": "code",
   "execution_count": 8,
   "metadata": {},
   "outputs": [
    {
     "name": "stdout",
     "output_type": "stream",
     "text": [
      "0      1\n",
      "1    125\n",
      "2    216\n",
      "3    343\n",
      "4    125\n",
      "5     64\n",
      "6     27\n",
      "7      8\n",
      "8     27\n",
      "dtype: int64\n"
     ]
    }
   ],
   "source": [
    "numerosc=sc.parallelize(([1,5,6,7,5,4,3,2,3])).map(lambda x:(x*x*x)).collect()\n",
    "print(pd.Series(numerosc))"
   ]
  }
 ],
 "metadata": {
  "kernelspec": {
   "display_name": "Python 3",
   "language": "python",
   "name": "python3"
  },
  "language_info": {
   "codemirror_mode": {
    "name": "ipython",
    "version": 3
   },
   "file_extension": ".py",
   "mimetype": "text/x-python",
   "name": "python",
   "nbconvert_exporter": "python",
   "pygments_lexer": "ipython3",
   "version": "3.7.0"
  }
 },
 "nbformat": 4,
 "nbformat_minor": 2
}
