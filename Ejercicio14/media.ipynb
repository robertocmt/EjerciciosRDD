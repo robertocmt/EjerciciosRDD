{
 "cells": [
  {
   "cell_type": "code",
   "execution_count": 1,
   "metadata": {},
   "outputs": [],
   "source": [
    "from pyspark.sql import SQLContext"
   ]
  },
  {
   "cell_type": "code",
   "execution_count": 28,
   "metadata": {},
   "outputs": [
    {
     "name": "stdout",
     "output_type": "stream",
     "text": [
      "+------+-----+\n",
      "|  pais|media|\n",
      "+------+-----+\n",
      "|España| 20.0|\n",
      "| Rusia|  0.0|\n",
      "|Brasil| 30.0|\n",
      "| Japón| 12.5|\n",
      "+------+-----+\n",
      "\n"
     ]
    }
   ],
   "source": [
    "lista = [['España', 25, 15], ['Brasil', 35, 25], ['Japón', 20, 5], ['Rusia', 10, -10]]\n",
    "df = sqlContext.createDataFrame(lista, ['Pais', 'max', 'min'])\n",
    "df.registerTempTable(\"temp_p\")\n",
    "spark.sql(\"select pais, sum((max+min)/2) as media from temp_p group by pais\").show()"
   ]
  }
 ],
 "metadata": {
  "kernelspec": {
   "display_name": "Python 3",
   "language": "python",
   "name": "python3"
  },
  "language_info": {
   "codemirror_mode": {
    "name": "ipython",
    "version": 3
   },
   "file_extension": ".py",
   "mimetype": "text/x-python",
   "name": "python",
   "nbconvert_exporter": "python",
   "pygments_lexer": "ipython3",
   "version": "3.7.0"
  }
 },
 "nbformat": 4,
 "nbformat_minor": 2
}
